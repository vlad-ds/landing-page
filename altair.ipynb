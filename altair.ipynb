{
 "cells": [
  {
   "cell_type": "code",
   "execution_count": 6,
   "metadata": {},
   "outputs": [],
   "source": [
    "import altair as alt\n",
    "import pandas as pd\n",
    "from vega_datasets import dataD"
   ]
  },
  {
   "cell_type": "code",
   "execution_count": 35,
   "metadata": {},
   "outputs": [],
   "source": [
    "mydf = pd.DataFrame({\n",
    "    'name': ['Constanta', 'Turin', 'Madrid', 'Copenhagen', 'Berlin'],\n",
    "    'lat': [45.1598, 45.0703, 40.4168, 55.6761, 52.5200],\n",
    "    'long': [28.6348, 7.6869, -3.7038, 12.5683, 13.40]\n",
    "    })\n",
    "\n",
    "descriptions = ['Was born here!',\n",
    "               'Grew up here.',\n",
    "               'Studied psychology§',\n",
    "               'Worked at the IT university',\n",
    "               'Home since 2020']\n",
    "\n",
    "mydf['descr'] = descriptions\n",
    "mydf['tooltip'] = mydf.name + ' | ' + mydf.descr"
   ]
  },
  {
   "cell_type": "code",
   "execution_count": 36,
   "metadata": {},
   "outputs": [
    {
     "data": {
      "text/html": [
       "<div>\n",
       "<style scoped>\n",
       "    .dataframe tbody tr th:only-of-type {\n",
       "        vertical-align: middle;\n",
       "    }\n",
       "\n",
       "    .dataframe tbody tr th {\n",
       "        vertical-align: top;\n",
       "    }\n",
       "\n",
       "    .dataframe thead th {\n",
       "        text-align: right;\n",
       "    }\n",
       "</style>\n",
       "<table border=\"1\" class=\"dataframe\">\n",
       "  <thead>\n",
       "    <tr style=\"text-align: right;\">\n",
       "      <th></th>\n",
       "      <th>name</th>\n",
       "      <th>lat</th>\n",
       "      <th>long</th>\n",
       "      <th>descr</th>\n",
       "      <th>tooltip</th>\n",
       "    </tr>\n",
       "  </thead>\n",
       "  <tbody>\n",
       "    <tr>\n",
       "      <th>0</th>\n",
       "      <td>Constanta</td>\n",
       "      <td>45.1598</td>\n",
       "      <td>28.6348</td>\n",
       "      <td>Was born here!</td>\n",
       "      <td>Constanta | Was born here!</td>\n",
       "    </tr>\n",
       "    <tr>\n",
       "      <th>1</th>\n",
       "      <td>Turin</td>\n",
       "      <td>45.0703</td>\n",
       "      <td>7.6869</td>\n",
       "      <td>Grew up here.</td>\n",
       "      <td>Turin | Grew up here.</td>\n",
       "    </tr>\n",
       "    <tr>\n",
       "      <th>2</th>\n",
       "      <td>Madrid</td>\n",
       "      <td>40.4168</td>\n",
       "      <td>-3.7038</td>\n",
       "      <td>Studied psychology§</td>\n",
       "      <td>Madrid | Studied psychology§</td>\n",
       "    </tr>\n",
       "    <tr>\n",
       "      <th>3</th>\n",
       "      <td>Copenhagen</td>\n",
       "      <td>55.6761</td>\n",
       "      <td>12.5683</td>\n",
       "      <td>Worked at the IT university</td>\n",
       "      <td>Copenhagen | Worked at the IT university</td>\n",
       "    </tr>\n",
       "    <tr>\n",
       "      <th>4</th>\n",
       "      <td>Berlin</td>\n",
       "      <td>52.5200</td>\n",
       "      <td>13.4000</td>\n",
       "      <td>Home since 2020</td>\n",
       "      <td>Berlin | Home since 2020</td>\n",
       "    </tr>\n",
       "  </tbody>\n",
       "</table>\n",
       "</div>"
      ],
      "text/plain": [
       "         name      lat     long                        descr  \\\n",
       "0   Constanta  45.1598  28.6348               Was born here!   \n",
       "1       Turin  45.0703   7.6869                Grew up here.   \n",
       "2      Madrid  40.4168  -3.7038          Studied psychology§   \n",
       "3  Copenhagen  55.6761  12.5683  Worked at the IT university   \n",
       "4      Berlin  52.5200  13.4000              Home since 2020   \n",
       "\n",
       "                                    tooltip  \n",
       "0                Constanta | Was born here!  \n",
       "1                     Turin | Grew up here.  \n",
       "2              Madrid | Studied psychology§  \n",
       "3  Copenhagen | Worked at the IT university  \n",
       "4                  Berlin | Home since 2020  "
      ]
     },
     "execution_count": 36,
     "metadata": {},
     "output_type": "execute_result"
    }
   ],
   "source": [
    "mydf"
   ]
  },
  {
   "cell_type": "code",
   "execution_count": 39,
   "metadata": {
    "scrolled": false
   },
   "outputs": [
    {
     "data": {
      "text/html": [
       "\n",
       "<div id=\"altair-viz-486272440f3e4dc29833fef0e43f4bc1\"></div>\n",
       "<script type=\"text/javascript\">\n",
       "  (function(spec, embedOpt){\n",
       "    let outputDiv = document.currentScript.previousElementSibling;\n",
       "    if (outputDiv.id !== \"altair-viz-486272440f3e4dc29833fef0e43f4bc1\") {\n",
       "      outputDiv = document.getElementById(\"altair-viz-486272440f3e4dc29833fef0e43f4bc1\");\n",
       "    }\n",
       "    const paths = {\n",
       "      \"vega\": \"https://cdn.jsdelivr.net/npm//vega@5?noext\",\n",
       "      \"vega-lib\": \"https://cdn.jsdelivr.net/npm//vega-lib?noext\",\n",
       "      \"vega-lite\": \"https://cdn.jsdelivr.net/npm//vega-lite@4.8.1?noext\",\n",
       "      \"vega-embed\": \"https://cdn.jsdelivr.net/npm//vega-embed@6?noext\",\n",
       "    };\n",
       "\n",
       "    function loadScript(lib) {\n",
       "      return new Promise(function(resolve, reject) {\n",
       "        var s = document.createElement('script');\n",
       "        s.src = paths[lib];\n",
       "        s.async = true;\n",
       "        s.onload = () => resolve(paths[lib]);\n",
       "        s.onerror = () => reject(`Error loading script: ${paths[lib]}`);\n",
       "        document.getElementsByTagName(\"head\")[0].appendChild(s);\n",
       "      });\n",
       "    }\n",
       "\n",
       "    function showError(err) {\n",
       "      outputDiv.innerHTML = `<div class=\"error\" style=\"color:red;\">${err}</div>`;\n",
       "      throw err;\n",
       "    }\n",
       "\n",
       "    function displayChart(vegaEmbed) {\n",
       "      vegaEmbed(outputDiv, spec, embedOpt)\n",
       "        .catch(err => showError(`Javascript Error: ${err.message}<br>This usually means there's a typo in your chart specification. See the javascript console for the full traceback.`));\n",
       "    }\n",
       "\n",
       "    if(typeof define === \"function\" && define.amd) {\n",
       "      requirejs.config({paths});\n",
       "      require([\"vega-embed\"], displayChart, err => showError(`Error loading script: ${err.message}`));\n",
       "    } else if (typeof vegaEmbed === \"function\") {\n",
       "      displayChart(vegaEmbed);\n",
       "    } else {\n",
       "      loadScript(\"vega\")\n",
       "        .then(() => loadScript(\"vega-lite\"))\n",
       "        .then(() => loadScript(\"vega-embed\"))\n",
       "        .catch(showError)\n",
       "        .then(() => displayChart(vegaEmbed));\n",
       "    }\n",
       "  })({\"config\": {\"view\": {\"continuousWidth\": 400, \"continuousHeight\": 300}}, \"layer\": [{\"data\": {\"url\": \"https://cdn.jsdelivr.net/npm/vega-datasets@v1.29.0/data/world-110m.json\", \"format\": {\"feature\": \"countries\", \"type\": \"topojson\"}}, \"mark\": {\"type\": \"geoshape\", \"fill\": \"#CCCCCC\", \"stroke\": \"white\"}, \"height\": 300, \"projection\": {\"center\": [20, 50], \"clipExtent\": [[0, 0], [400, 300]], \"scale\": 350, \"type\": \"mercator\"}, \"width\": 400}, {\"data\": {\"name\": \"data-89124dc982af10b8184b2ca7be413117\"}, \"mark\": \"circle\", \"encoding\": {\"latitude\": {\"field\": \"lat\", \"type\": \"quantitative\"}, \"longitude\": {\"field\": \"long\", \"type\": \"quantitative\"}, \"size\": {\"value\": 500}, \"tooltip\": {\"type\": \"nominal\", \"field\": \"tooltip\"}}, \"height\": 400, \"projection\": {\"center\": [20, 50], \"clipExtent\": [[0, 0], [400, 300]], \"scale\": 350, \"type\": \"mercator\"}, \"width\": 500}], \"$schema\": \"https://vega.github.io/schema/vega-lite/v4.8.1.json\", \"datasets\": {\"data-89124dc982af10b8184b2ca7be413117\": [{\"name\": \"Constanta\", \"lat\": 45.1598, \"long\": 28.6348, \"descr\": \"Was born here!\", \"tooltip\": \"Constanta | Was born here!\"}, {\"name\": \"Turin\", \"lat\": 45.0703, \"long\": 7.6869, \"descr\": \"Grew up here.\", \"tooltip\": \"Turin | Grew up here.\"}, {\"name\": \"Madrid\", \"lat\": 40.4168, \"long\": -3.7038, \"descr\": \"Studied psychology\\u00a7\", \"tooltip\": \"Madrid | Studied psychology\\u00a7\"}, {\"name\": \"Copenhagen\", \"lat\": 55.6761, \"long\": 12.5683, \"descr\": \"Worked at the IT university\", \"tooltip\": \"Copenhagen | Worked at the IT university\"}, {\"name\": \"Berlin\", \"lat\": 52.52, \"long\": 13.4, \"descr\": \"Home since 2020\", \"tooltip\": \"Berlin | Home since 2020\"}]}}, {\"mode\": \"vega-lite\"});\n",
       "</script>"
      ],
      "text/plain": [
       "alt.LayerChart(...)"
      ]
     },
     "execution_count": 39,
     "metadata": {},
     "output_type": "execute_result"
    }
   ],
   "source": [
    "countries = alt.topo_feature(data.world_110m.url, 'countries')\n",
    "\n",
    "points = alt.Chart(mydf).mark_circle().encode(\n",
    "    longitude='long',\n",
    "    latitude='lat',\n",
    "    size=alt.value(500),\n",
    "    tooltip='tooltip'\n",
    ").project(\n",
    "    type= 'mercator',\n",
    "    scale= 350,                          \n",
    "    center= [20,50],                     \n",
    "    clipExtent= [[0, 0], [400, 300]],    \n",
    ").properties(\n",
    "    width=500,\n",
    "    height=400\n",
    ")\n",
    "\n",
    "background = alt.Chart(countries).mark_geoshape(\n",
    "    fill='#CCCCCC',\n",
    "    stroke='white'\n",
    ").project(\n",
    "    type= 'mercator',\n",
    "    scale= 350,                          # Magnify\n",
    "    center= [20,50],                     # [lon, lat]\n",
    "    clipExtent= [[0, 0], [400, 300]],    # [[left, top], [right, bottom]]\n",
    ").properties(\n",
    "    width=400, height=300\n",
    ")\n",
    "\n",
    "background + points"
   ]
  },
  {
   "cell_type": "code",
   "execution_count": null,
   "metadata": {},
   "outputs": [],
   "source": []
  },
  {
   "cell_type": "code",
   "execution_count": null,
   "metadata": {},
   "outputs": [],
   "source": []
  }
 ],
 "metadata": {
  "kernelspec": {
   "display_name": "Python 3",
   "language": "python",
   "name": "python3"
  },
  "language_info": {
   "codemirror_mode": {
    "name": "ipython",
    "version": 3
   },
   "file_extension": ".py",
   "mimetype": "text/x-python",
   "name": "python",
   "nbconvert_exporter": "python",
   "pygments_lexer": "ipython3",
   "version": "3.8.6"
  }
 },
 "nbformat": 4,
 "nbformat_minor": 4
}
